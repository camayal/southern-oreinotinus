{
 "cells": [
  {
   "cell_type": "markdown",
   "id": "e5e93270-8ec7-4048-a02f-54e593c7aa6d",
   "metadata": {},
   "source": [
    "# Testing species delimitation using BPP\n",
    "\n",
    "In this notebook I am exploring if each clade is considered by BPP as an independent species or not.\n",
    "\n",
    "Important notice: in this ipa wrapper the bpp 10 algorithm is named 01"
   ]
  },
  {
   "cell_type": "code",
   "execution_count": 3,
   "id": "72164516-749e-4360-bede-dff61e8d8456",
   "metadata": {},
   "outputs": [],
   "source": [
    "import ipyrad.analysis as ipa         ## ipyrad analysis tools\n",
    "import pandas as pd                   ## DataFrames\n",
    "import numpy as np                    ## data generation\n",
    "import toytree                        ## tree plotting\n",
    "import toyplot   "
   ]
  },
  {
   "cell_type": "code",
   "execution_count": 4,
   "id": "03e1a972-6a3b-4650-b336-f416ad7245ef",
   "metadata": {},
   "outputs": [],
   "source": [
    "#get database\n",
    "import dbgdrive\n",
    "fulldata = dbgdrive.get_database(sheet_name='sample-data', id_spreadsheet='**', api_key='**')"
   ]
  },
  {
   "cell_type": "markdown",
   "id": "9b2d5e29-4708-49db-9655-747afbf2e7d6",
   "metadata": {},
   "source": [
    "## Create IMAP"
   ]
  },
  {
   "cell_type": "code",
   "execution_count": null,
   "id": "6b04ee73-d227-41bd-92b3-6677d0c24e6f",
   "metadata": {},
   "outputs": [],
   "source": [
    "# define groups using the main clades (c1 to c7)\n",
    "\n",
    "idxs_clades = [94,89,84,79,75,68,67]\n",
    "# rtree.draw(use_edge_lengths=False, node_labels=True, node_sizes=20)\n",
    "\n",
    "imap = {}\n",
    "invert_imap = {}\n",
    "\n",
    "for index, node in enumerate(idxs_clades):\n",
    "    imap[f\"c{index+1}\"] = rtre.get_tip_labels(node)\n",
    "    for tip in rtre.get_tip_labels(node):\n",
    "        invert_imap[tip] = f\"c{index+1}\"\n",
    "\n",
    "imap[\"out\"] = outgroup    \n",
    "\n",
    "for out in outgroup:\n",
    "    invert_imap[out] = \"out\"\n",
    "\n",
    "imap"
   ]
  },
  {
   "cell_type": "markdown",
   "id": "b3c5604e-9806-4be3-9c83-6912d8f7fd79",
   "metadata": {},
   "source": [
    "## Create reduced tree by clades"
   ]
  },
  {
   "cell_type": "code",
   "execution_count": 3,
   "id": "31c1d2b2-1575-4c4a-9948-7abeb05d8d26",
   "metadata": {},
   "outputs": [],
   "source": [
    "#in this cell I am modifying the names for journal friendly names.\n",
    "sdata = fulldata[[\"NameInAssembly\",\"UltimateName\",\"Num_for_Publication\",\"Country\",\"Locality\",\"Lat\",\"Long\", \"Lastest_SP_name\"]]\n",
    "\n",
    "namedict = {}\n",
    "for i in range(sdata.shape[0]):\n",
    "    part = sdata.iloc[i, 1].split(\"-\")\n",
    "    spnum = sdata.iloc[i, 2]\n",
    "    if spnum == None:\n",
    "        spnum = \"\"\n",
    "    else:\n",
    "        spnum = \" \" + spnum\n",
    "    namedict[sdata.iloc[i, 0]] = {\n",
    "                                  #\"SpecimenID\": \"V. \" + part[0] + spnum,\n",
    "                                  #\"Collector\": part[1],\n",
    "                                  #\"Country\": sdata.iloc[i, 3],\n",
    "                                  #\"Locality\": sdata.iloc[i, 4],\n",
    "                                  # \"AssemblyName\": sdata.iloc[i, 0],\n",
    "                                  \"UltimateName\": sdata.iloc[i, 1],\n",
    "                                  \"Latitude\": sdata.iloc[i, 5],\n",
    "                                  \"Longitude\": sdata.iloc[i, 6],\n",
    "                                  \"Species\": sdata.iloc[i, 7],\n",
    "                                  }\n"
   ]
  },
  {
   "cell_type": "code",
   "execution_count": 4,
   "id": "56444592-ee27-4054-a879-e9b77a4125ea",
   "metadata": {},
   "outputs": [],
   "source": [
    "#Import tree fulldataset tree with real ayava\n",
    "import toytree\n",
    "treeFile = f\"../phylogeny/analysis-raxml/RAxML_bipartitions.10-bolivia-initial_mcov0.25_rcov0.1_ALLscaff_SelectiveSampling\"\n",
    "TREE = toytree.tree(treeFile)\n",
    "\n",
    "outgroup  = [\"triphyllum_Edwards_2014_04\",\n",
    "             \"triphyllum_PWS_4011\",\n",
    "             \"ayavacense_PWS_4002\",\n",
    "             \"triphyllum_PWS_1769\"\n",
    "]\n",
    "\n",
    "rtre = TREE.root(outgroup) #.ladderize()"
   ]
  },
  {
   "cell_type": "code",
   "execution_count": 6,
   "id": "8c535ae4-199b-4084-b1e0-341e56aa7985",
   "metadata": {},
   "outputs": [
    {
     "data": {
      "text/plain": [
       "(<toyplot.canvas.Canvas at 0x2b6aa07ddc90>,\n",
       " <toyplot.coordinates.Cartesian at 0x2b6aa07dfa60>,\n",
       " <toytree.Render.ToytreeMark at 0x2b6aa07debf0>)"
      ]
     },
     "execution_count": 6,
     "metadata": {},
     "output_type": "execute_result"
    },
    {
     "data": {
      "text/html": [
       "<div class=\"toyplot\" id=\"t44bb536d77da4597a64ee072e6e2e354\" style=\"text-align:center\"><svg class=\"toyplot-canvas-Canvas\" xmlns:toyplot=\"http://www.sandia.gov/toyplot\" xmlns:xlink=\"http://www.w3.org/1999/xlink\" xmlns=\"http://www.w3.org/2000/svg\" width=\"265.0px\" height=\"275.0px\" viewBox=\"0 0 265.0 275.0\" preserveAspectRatio=\"xMidYMid meet\" style=\"background-color:transparent;border-color:#292724;border-style:none;border-width:1.0;fill:rgb(16.1%,15.3%,14.1%);fill-opacity:1.0;font-family:Helvetica;font-size:12px;opacity:1.0;stroke:rgb(16.1%,15.3%,14.1%);stroke-opacity:1.0;stroke-width:1.0\" id=\"t825839708e1246fd867a04f4c9295500\"><g class=\"toyplot-coordinates-Cartesian\" id=\"t6047f0ba31e9495c82b178a3c8131598\"><clipPath id=\"tadf5d8ae096c4657a1746ded2621a1fa\"><rect x=\"30.0\" y=\"30.0\" width=\"205.0\" height=\"215.0\"></rect></clipPath><g clip-path=\"url(#tadf5d8ae096c4657a1746ded2621a1fa)\"><g class=\"toytree-mark-Toytree\" id=\"t5240ba3ef409406f833a43839cdcd5e5\"><g class=\"toytree-Edges\" style=\"fill:none;stroke:rgb(14.9%,14.9%,14.9%);stroke-linecap:round;stroke-opacity:1;stroke-width:2\"><path d=\"M 51.7 82.7 L 51.7 104.4 L 56.3 104.4\" id=\"14,13\"></path><path d=\"M 56.3 104.4 L 56.3 125.9 L 64.9 125.9\" id=\"13,12\"></path><path d=\"M 64.9 125.9 L 64.9 147.1 L 73.4 147.1\" id=\"12,11\"></path><path d=\"M 73.4 147.1 L 73.4 167.5 L 83.2 167.5\" id=\"11,10\"></path><path d=\"M 83.2 167.5 L 83.2 186.7 L 90.5 186.7\" id=\"10,9\"></path><path d=\"M 90.5 186.7 L 90.5 203.1 L 99.9 203.1\" id=\"9,8\"></path><path d=\"M 51.7 82.7 L 51.7 61.0 L 127.2 61.0\" id=\"14,7\"></path><path d=\"M 56.3 104.4 L 56.3 82.9 L 134.6 82.9\" id=\"13,6\"></path><path d=\"M 64.9 125.9 L 64.9 104.7 L 122.5 104.7\" id=\"12,5\"></path><path d=\"M 73.4 147.1 L 73.4 126.6 L 143.0 126.6\" id=\"11,4\"></path><path d=\"M 83.2 167.5 L 83.2 148.4 L 172.3 148.4\" id=\"10,3\"></path><path d=\"M 90.5 186.7 L 90.5 170.3 L 170.9 170.3\" id=\"9,2\"></path><path d=\"M 99.9 203.1 L 99.9 192.1 L 150.3 192.1\" id=\"8,1\"></path><path d=\"M 99.9 203.1 L 99.9 214.0 L 195.7 214.0\" id=\"8,0\"></path></g><g class=\"toytree-TipLabels\" style=\"fill:rgb(14.9%,14.9%,14.9%);fill-opacity:1.0;font-family:helvetica;font-size:11px;font-weight:normal;stroke:none;white-space:pre\"><g transform=\"translate(195.66,213.99)rotate(0)\"><text x=\"15.00\" y=\"2.81\" style=\"\">c7</text></g><g transform=\"translate(150.26,192.13)rotate(0)\"><text x=\"15.00\" y=\"2.81\" style=\"\">c6</text></g><g transform=\"translate(170.89,170.28)rotate(0)\"><text x=\"15.00\" y=\"2.81\" style=\"\">c5</text></g><g transform=\"translate(172.32,148.43)rotate(0)\"><text x=\"15.00\" y=\"2.81\" style=\"\">c4</text></g><g transform=\"translate(142.96,126.57)rotate(0)\"><text x=\"15.00\" y=\"2.81\" style=\"\">c3</text></g><g transform=\"translate(122.49,104.72)rotate(0)\"><text x=\"15.00\" y=\"2.81\" style=\"\">c2</text></g><g transform=\"translate(134.58,82.87)rotate(0)\"><text x=\"15.00\" y=\"2.81\" style=\"\">c1</text></g><g transform=\"translate(127.23,61.01)rotate(0)\"><text x=\"15.00\" y=\"2.81\" style=\"\">out</text></g></g></g></g></g></svg><div class=\"toyplot-behavior\"><script>(function()\n",
       "{\n",
       "var modules={};\n",
       "})();</script></div></div>"
      ]
     },
     "metadata": {},
     "output_type": "display_data"
    }
   ],
   "source": [
    "# create reduced tree\n",
    "#define nodes of each clade\n",
    "nodes_for_clades = [97, 94,89,84,79,75,68,67]\n",
    "\n",
    "# clade_info\n",
    "\n",
    "#select only one specimen per clade\n",
    "chosen_specimen = []\n",
    "for node in nodes_for_clades:\n",
    "    chosen_specimen.append(rtre.get_tip_labels(node)[0])\n",
    "\n",
    "#prune tree to maintain only selected specimens\n",
    "pruned_tree = rtre.prune(chosen_specimen)\n",
    "pruned_tree = pruned_tree.root(wildcard=\"triphyllum\")\n",
    "\n",
    "#create namedict\n",
    "sdata = fulldata[[\"NameInAssembly\",\"Lastest_SP_name\"]]\n",
    "\n",
    "namedict = {}\n",
    "for i in range(sdata.shape[0]):\n",
    "    if sdata.iloc[i, 0] in invert_imap:\n",
    "        namedict[sdata.iloc[i, 0]] = invert_imap[sdata.iloc[i, 0]]\n",
    "    else:\n",
    "        namedict[sdata.iloc[i, 0]] = \"\"\n",
    "\n",
    "labels_updated = [namedict[i] for i in pruned_tree.get_tip_labels()]\n",
    "\n",
    "pruned_tree.draw(tip_labels=labels_updated,)\n",
    "\n"
   ]
  },
  {
   "cell_type": "code",
   "execution_count": 7,
   "id": "520123a1-2004-4634-9e3c-e62774111100",
   "metadata": {},
   "outputs": [],
   "source": [
    "# hard update tree with names\n",
    "updateddict = {}\n",
    "for i in pruned_tree.get_tip_labels():\n",
    "    updateddict[i] = namedict[i]\n",
    "\n",
    "    \n",
    "pruned_tree = pruned_tree.set_node_values(\n",
    "    feature=\"name\",\n",
    "    values=updateddict,\n",
    ")\n",
    "\n",
    "# testtre.write(f\"{treeFile}_RENAMED\", tree_format=0)"
   ]
  },
  {
   "cell_type": "markdown",
   "id": "a2229a27-6880-4521-8e8f-1d4bb4358008",
   "metadata": {},
   "source": [
    "## set data path"
   ]
  },
  {
   "cell_type": "code",
   "execution_count": 6,
   "id": "e7545157-4664-4bb6-a21b-83223f967cbe",
   "metadata": {},
   "outputs": [],
   "source": [
    "data = \"/home/cm2828/project/viburnumThings/data/Aug2022_lookingforBolivianSamples/bolivia_history_outfiles/bolivia_history.seqs.hdf5\""
   ]
  },
  {
   "cell_type": "markdown",
   "id": "640f4224-44ca-4c87-b525-bd8ff36bf634",
   "metadata": {},
   "source": [
    "## run"
   ]
  },
  {
   "cell_type": "code",
   "execution_count": 19,
   "id": "67439783-dbb0-4b11-b80d-1fdcb343c2ef",
   "metadata": {},
   "outputs": [],
   "source": [
    "## create a bpp object to run algorithm 00\n",
    "b = ipa.bpp(\n",
    "    name=\"1-bpptest\",\n",
    "    data=data,\n",
    "    guidetree=pruned_tree.write(),\n",
    "    imap=imap,\n",
    "    # minmap=minmap,\n",
    "    )"
   ]
  },
  {
   "cell_type": "code",
   "execution_count": 38,
   "id": "a45a7fd6-a7d5-4efc-a289-04ad71b8bfe5",
   "metadata": {},
   "outputs": [
    {
     "data": {
      "text/plain": [
       "{'binary': '/tmp/bpp-4.1.4-linux-x86_64/bin/bpp',\n",
       " 'infer_sptree': 0,\n",
       " 'infer_delimit': 1,\n",
       " 'infer_delimit_args': (0, 2),\n",
       " 'speciesmodelprior': 1,\n",
       " 'seed': 42,\n",
       " 'burnin': 8000,\n",
       " 'nsample': 100000,\n",
       " 'sampfreq': 5,\n",
       " 'thetaprior': (3, 0.002),\n",
       " 'tauprior': (3, 0.002),\n",
       " 'phiprior': (1, 1),\n",
       " 'usedata': 1,\n",
       " 'cleandata': 0,\n",
       " 'finetune': (0.01, 0.02, 0.03, 0.04, 0.05, 0.01, 0.01),\n",
       " 'copied': False}"
      ]
     },
     "execution_count": 38,
     "metadata": {},
     "output_type": "execute_result"
    }
   ],
   "source": [
    "## set some optional params, leaving others at their defaults\n",
    "b.kwargs[\"burnin\"] = 8000 \n",
    "b.kwargs[\"nsample\"] = 100000\n",
    "b.kwargs[\"sampfreq\"] = 5\n",
    "b.kwargs[\"seed\"] = 42\n",
    "\n",
    "b.kwargs[\"infer_delimit\"] = 1\n",
    "\n",
    "## print params\n",
    "b.kwargs"
   ]
  },
  {
   "cell_type": "markdown",
   "id": "fed9482b-dd0f-4c56-82d3-d3886481e491",
   "metadata": {},
   "source": [
    "<div class=\"alert alert-box alert-info\">\n",
    "Quick note: to make the next step work I remove the decode method from str on line 270 in locus_extracter.py (ipyrad). pandas already decode the array from hdf5.\n",
    "    \n",
    "</div>"
   ]
  },
  {
   "cell_type": "code",
   "execution_count": null,
   "id": "d8ec972e-42b4-4cac-a45a-961db9da4f96",
   "metadata": {},
   "outputs": [
    {
     "name": "stdout",
     "output_type": "stream",
     "text": [
      "Parallel connection | p02r09n08.farnam.hpc.yale.internal: 36 cores\n",
      "[locus filter] full data: 117806\n",
      "[locus filter] post filter: 93741\n",
      "[ipa bpp] bpp v4.1.4\n",
      "[ipa.bpp] distributed 4 bpp jobs (name=1-bpptest, nloci=100)\n",
      "[##                  ]  12% 0:39:37 | progress on rep 0 "
     ]
    }
   ],
   "source": [
    "b.run(\n",
    "    nreps=4,\n",
    "    auto=True,\n",
    "    force=True,\n",
    "    )"
   ]
  },
  {
   "cell_type": "markdown",
   "id": "217dae3a-e3b5-4638-8dc5-6f81bdc89f57",
   "metadata": {},
   "source": [
    "## check results"
   ]
  },
  {
   "cell_type": "code",
   "execution_count": 47,
   "id": "bebfdbf6-75b1-4706-a1da-3dc16af16ba5",
   "metadata": {},
   "outputs": [
    {
     "name": "stdout",
     "output_type": "stream",
     "text": [
      "[ipa.bpp] found 4 existing result files\n",
      "[ipa.bpp] summarizing algorithm '01' results\n"
     ]
    },
    {
     "data": {
      "text/html": [
       "<div>\n",
       "<style scoped>\n",
       "    .dataframe tbody tr th:only-of-type {\n",
       "        vertical-align: middle;\n",
       "    }\n",
       "\n",
       "    .dataframe tbody tr th {\n",
       "        vertical-align: top;\n",
       "    }\n",
       "\n",
       "    .dataframe thead th {\n",
       "        text-align: right;\n",
       "    }\n",
       "</style>\n",
       "<table border=\"1\" class=\"dataframe\">\n",
       "  <thead>\n",
       "    <tr style=\"text-align: right;\">\n",
       "      <th></th>\n",
       "      <th>delim</th>\n",
       "      <th>prior</th>\n",
       "      <th>posterior</th>\n",
       "      <th>nspecies</th>\n",
       "    </tr>\n",
       "  </thead>\n",
       "  <tbody>\n",
       "    <tr>\n",
       "      <th>0</th>\n",
       "      <td>0000000</td>\n",
       "      <td>0.125000</td>\n",
       "      <td>0.000</td>\n",
       "      <td>1</td>\n",
       "    </tr>\n",
       "    <tr>\n",
       "      <th>1</th>\n",
       "      <td>1000000</td>\n",
       "      <td>0.125000</td>\n",
       "      <td>0.000</td>\n",
       "      <td>2</td>\n",
       "    </tr>\n",
       "    <tr>\n",
       "      <th>2</th>\n",
       "      <td>1100000</td>\n",
       "      <td>0.125000</td>\n",
       "      <td>0.000</td>\n",
       "      <td>3</td>\n",
       "    </tr>\n",
       "    <tr>\n",
       "      <th>3</th>\n",
       "      <td>1110000</td>\n",
       "      <td>0.125000</td>\n",
       "      <td>0.000</td>\n",
       "      <td>4</td>\n",
       "    </tr>\n",
       "    <tr>\n",
       "      <th>4</th>\n",
       "      <td>1111000</td>\n",
       "      <td>0.125000</td>\n",
       "      <td>0.000</td>\n",
       "      <td>5</td>\n",
       "    </tr>\n",
       "    <tr>\n",
       "      <th>5</th>\n",
       "      <td>1111100</td>\n",
       "      <td>0.125000</td>\n",
       "      <td>0.001</td>\n",
       "      <td>6</td>\n",
       "    </tr>\n",
       "    <tr>\n",
       "      <th>6</th>\n",
       "      <td>1111110</td>\n",
       "      <td>0.125000</td>\n",
       "      <td>0.065</td>\n",
       "      <td>7</td>\n",
       "    </tr>\n",
       "    <tr>\n",
       "      <th>7</th>\n",
       "      <td>1111111</td>\n",
       "      <td>0.125000</td>\n",
       "      <td>0.935</td>\n",
       "      <td>8</td>\n",
       "    </tr>\n",
       "  </tbody>\n",
       "</table>\n",
       "</div>"
      ],
      "text/plain": [
       "     delim     prior  posterior  nspecies\n",
       "0  0000000  0.125000      0.000         1\n",
       "1  1000000  0.125000      0.000         2\n",
       "2  1100000  0.125000      0.000         3\n",
       "3  1110000  0.125000      0.000         4\n",
       "4  1111000  0.125000      0.000         5\n",
       "5  1111100  0.125000      0.001         6\n",
       "6  1111110  0.125000      0.065         7\n",
       "7  1111111  0.125000      0.935         8"
      ]
     },
     "execution_count": 47,
     "metadata": {},
     "output_type": "execute_result"
    }
   ],
   "source": [
    "b.summarize_results(\"01\").round(3)"
   ]
  },
  {
   "cell_type": "code",
   "execution_count": 48,
   "id": "adc5ce71-6a44-4356-88d6-dd2dbba666fe",
   "metadata": {},
   "outputs": [
    {
     "name": "stdout",
     "output_type": "stream",
     "text": [
      "[ipa.bpp] found 4 existing result files\n",
      "[ipa.bpp] summarizing algorithm '01' results\n"
     ]
    },
    {
     "data": {
      "text/plain": [
       "[     delim     prior  posterior  nspecies\n",
       " 0  0000000  0.125000      0.000         1\n",
       " 1  1000000  0.125000      0.000         2\n",
       " 2  1100000  0.125000      0.000         3\n",
       " 3  1110000  0.125000      0.000         4\n",
       " 4  1111000  0.125000      0.000         5\n",
       " 5  1111100  0.125000      0.000         6\n",
       " 6  1111110  0.125000      0.074         7\n",
       " 7  1111111  0.125000      0.926         8,\n",
       "      delim     prior  posterior  nspecies\n",
       " 0  0000000  0.125000      0.000         1\n",
       " 1  1000000  0.125000      0.000         2\n",
       " 2  1100000  0.125000      0.000         3\n",
       " 3  1110000  0.125000      0.000         4\n",
       " 4  1111000  0.125000      0.000         5\n",
       " 5  1111100  0.125000      0.000         6\n",
       " 6  1111110  0.125000      0.072         7\n",
       " 7  1111111  0.125000      0.928         8,\n",
       "      delim     prior  posterior  nspecies\n",
       " 0  0000000  0.125000      0.000         1\n",
       " 1  1000000  0.125000      0.000         2\n",
       " 2  1100000  0.125000      0.000         3\n",
       " 3  1110000  0.125000      0.000         4\n",
       " 4  1111000  0.125000      0.000         5\n",
       " 5  1111100  0.125000      0.003         6\n",
       " 6  1111110  0.125000      0.060         7\n",
       " 7  1111111  0.125000      0.938         8,\n",
       "      delim     prior  posterior  nspecies\n",
       " 0  0000000  0.125000      0.000         1\n",
       " 1  1000000  0.125000      0.000         2\n",
       " 2  1100000  0.125000      0.000         3\n",
       " 3  1110000  0.125000      0.000         4\n",
       " 4  1111000  0.125000      0.000         5\n",
       " 5  1111100  0.125000      0.000         6\n",
       " 6  1111110  0.125000      0.053         7\n",
       " 7  1111111  0.125000      0.947         8]"
      ]
     },
     "execution_count": 48,
     "metadata": {},
     "output_type": "execute_result"
    }
   ],
   "source": [
    "b.summarize_results(\"01\", individual_results=True)"
   ]
  },
  {
   "cell_type": "markdown",
   "id": "07604713-c4ca-4227-993b-3277655aefe0",
   "metadata": {},
   "source": [
    "## Conclusion\n",
    "\n",
    "As expected the model with all clades as independent species is the most favorable"
   ]
  },
  {
   "cell_type": "markdown",
   "id": "f6e8ea7b-9229-4df5-8dc5-82f192688fd5",
   "metadata": {},
   "source": [
    "# Testing the second delimiation algoritm\n",
    "\n",
    "Suggested by bpp authors it is good to run both delimitation algorithms"
   ]
  },
  {
   "cell_type": "code",
   "execution_count": 53,
   "id": "c655fd75-5a5a-4cc2-962c-c5210665cd48",
   "metadata": {},
   "outputs": [],
   "source": [
    "b2 = b.copy(\"b2\")"
   ]
  },
  {
   "cell_type": "code",
   "execution_count": 63,
   "id": "f9630991-496b-431c-9575-998dfeea8535",
   "metadata": {},
   "outputs": [
    {
     "data": {
      "text/plain": [
       "{'binary': '/tmp/bpp-4.1.4-linux-x86_64/bin/bpp',\n",
       " 'infer_sptree': 0,\n",
       " 'infer_delimit': 1,\n",
       " 'infer_delimit_args': (1, 2, 0.5),\n",
       " 'speciesmodelprior': 1,\n",
       " 'seed': 42,\n",
       " 'burnin': 8000,\n",
       " 'nsample': 100000,\n",
       " 'sampfreq': 5,\n",
       " 'thetaprior': (3, 0.002),\n",
       " 'tauprior': (3, 0.002),\n",
       " 'phiprior': (1, 1),\n",
       " 'usedata': 1,\n",
       " 'cleandata': 0,\n",
       " 'finetune': (0.01, 0.02, 0.03, 0.04, 0.05, 0.01, 0.01),\n",
       " 'copied': False}"
      ]
     },
     "execution_count": 63,
     "metadata": {},
     "output_type": "execute_result"
    }
   ],
   "source": [
    "# set the delimitation parameters to get speciesdelimitation = 1 1 2 0.5\n",
    "b2.kwargs[\"infer_delimit_args\"] = (1, 2, 0.5)\n",
    "\n",
    "## print params\n",
    "b2.kwargs"
   ]
  },
  {
   "cell_type": "code",
   "execution_count": null,
   "id": "f04fb0b9-7442-4fb3-8d21-fe9494239ac0",
   "metadata": {},
   "outputs": [
    {
     "name": "stdout",
     "output_type": "stream",
     "text": [
      "Parallel connection | p02r09n08.farnam.hpc.yale.internal: 36 cores\n",
      "[locus filter] full data: 117806\n",
      "[locus filter] post filter: 93741\n",
      "[ipa bpp] bpp v4.1.4\n",
      "[ipa.bpp] distributed 4 bpp jobs (name=b2, nloci=100)\n",
      "[###########         ]  59% 2:56:56 | progress on rep 0 "
     ]
    }
   ],
   "source": [
    "b2.run(\n",
    "    nreps=4,\n",
    "    auto=True,\n",
    "    # force=True,\n",
    "    )"
   ]
  },
  {
   "cell_type": "markdown",
   "id": "c7324dc2-c265-4054-9b92-251324a19b93",
   "metadata": {},
   "source": [
    "## check results"
   ]
  },
  {
   "cell_type": "code",
   "execution_count": 72,
   "id": "8260398a-fcc9-4455-b8af-f7539ada25ff",
   "metadata": {},
   "outputs": [
    {
     "name": "stdout",
     "output_type": "stream",
     "text": [
      "[ipa.bpp] found 4 existing result files\n",
      "[ipa.bpp] summarizing algorithm '01' results\n"
     ]
    },
    {
     "data": {
      "text/html": [
       "<div>\n",
       "<style scoped>\n",
       "    .dataframe tbody tr th:only-of-type {\n",
       "        vertical-align: middle;\n",
       "    }\n",
       "\n",
       "    .dataframe tbody tr th {\n",
       "        vertical-align: top;\n",
       "    }\n",
       "\n",
       "    .dataframe thead th {\n",
       "        text-align: right;\n",
       "    }\n",
       "</style>\n",
       "<table border=\"1\" class=\"dataframe\">\n",
       "  <thead>\n",
       "    <tr style=\"text-align: right;\">\n",
       "      <th></th>\n",
       "      <th>delim</th>\n",
       "      <th>prior</th>\n",
       "      <th>posterior</th>\n",
       "      <th>nspecies</th>\n",
       "    </tr>\n",
       "  </thead>\n",
       "  <tbody>\n",
       "    <tr>\n",
       "      <th>0</th>\n",
       "      <td>0000000</td>\n",
       "      <td>0.125000</td>\n",
       "      <td>0.000</td>\n",
       "      <td>1</td>\n",
       "    </tr>\n",
       "    <tr>\n",
       "      <th>1</th>\n",
       "      <td>1000000</td>\n",
       "      <td>0.125000</td>\n",
       "      <td>0.000</td>\n",
       "      <td>2</td>\n",
       "    </tr>\n",
       "    <tr>\n",
       "      <th>2</th>\n",
       "      <td>1100000</td>\n",
       "      <td>0.125000</td>\n",
       "      <td>0.000</td>\n",
       "      <td>3</td>\n",
       "    </tr>\n",
       "    <tr>\n",
       "      <th>3</th>\n",
       "      <td>1110000</td>\n",
       "      <td>0.125000</td>\n",
       "      <td>0.000</td>\n",
       "      <td>4</td>\n",
       "    </tr>\n",
       "    <tr>\n",
       "      <th>4</th>\n",
       "      <td>1111000</td>\n",
       "      <td>0.125000</td>\n",
       "      <td>0.000</td>\n",
       "      <td>5</td>\n",
       "    </tr>\n",
       "    <tr>\n",
       "      <th>5</th>\n",
       "      <td>1111100</td>\n",
       "      <td>0.125000</td>\n",
       "      <td>0.001</td>\n",
       "      <td>6</td>\n",
       "    </tr>\n",
       "    <tr>\n",
       "      <th>6</th>\n",
       "      <td>1111110</td>\n",
       "      <td>0.125000</td>\n",
       "      <td>0.065</td>\n",
       "      <td>7</td>\n",
       "    </tr>\n",
       "    <tr>\n",
       "      <th>7</th>\n",
       "      <td>1111111</td>\n",
       "      <td>0.125000</td>\n",
       "      <td>0.935</td>\n",
       "      <td>8</td>\n",
       "    </tr>\n",
       "  </tbody>\n",
       "</table>\n",
       "</div>"
      ],
      "text/plain": [
       "     delim     prior  posterior  nspecies\n",
       "0  0000000  0.125000      0.000         1\n",
       "1  1000000  0.125000      0.000         2\n",
       "2  1100000  0.125000      0.000         3\n",
       "3  1110000  0.125000      0.000         4\n",
       "4  1111000  0.125000      0.000         5\n",
       "5  1111100  0.125000      0.001         6\n",
       "6  1111110  0.125000      0.065         7\n",
       "7  1111111  0.125000      0.935         8"
      ]
     },
     "execution_count": 72,
     "metadata": {},
     "output_type": "execute_result"
    }
   ],
   "source": [
    "b2.summarize_results(\"01\").round(3)"
   ]
  },
  {
   "cell_type": "code",
   "execution_count": 73,
   "id": "77f7dc95-cc7f-47f2-b037-38a3486c5c4c",
   "metadata": {},
   "outputs": [
    {
     "name": "stdout",
     "output_type": "stream",
     "text": [
      "[ipa.bpp] found 4 existing result files\n",
      "[ipa.bpp] summarizing algorithm '01' results\n"
     ]
    },
    {
     "data": {
      "text/plain": [
       "[     delim     prior  posterior  nspecies\n",
       " 0  0000000  0.125000      0.000         1\n",
       " 1  1000000  0.125000      0.000         2\n",
       " 2  1100000  0.125000      0.000         3\n",
       " 3  1110000  0.125000      0.000         4\n",
       " 4  1111000  0.125000      0.000         5\n",
       " 5  1111100  0.125000      0.000         6\n",
       " 6  1111110  0.125000      0.074         7\n",
       " 7  1111111  0.125000      0.926         8,\n",
       "      delim     prior  posterior  nspecies\n",
       " 0  0000000  0.125000      0.000         1\n",
       " 1  1000000  0.125000      0.000         2\n",
       " 2  1100000  0.125000      0.000         3\n",
       " 3  1110000  0.125000      0.000         4\n",
       " 4  1111000  0.125000      0.000         5\n",
       " 5  1111100  0.125000      0.000         6\n",
       " 6  1111110  0.125000      0.072         7\n",
       " 7  1111111  0.125000      0.928         8,\n",
       "      delim     prior  posterior  nspecies\n",
       " 0  0000000  0.125000      0.000         1\n",
       " 1  1000000  0.125000      0.000         2\n",
       " 2  1100000  0.125000      0.000         3\n",
       " 3  1110000  0.125000      0.000         4\n",
       " 4  1111000  0.125000      0.000         5\n",
       " 5  1111100  0.125000      0.003         6\n",
       " 6  1111110  0.125000      0.060         7\n",
       " 7  1111111  0.125000      0.938         8,\n",
       "      delim     prior  posterior  nspecies\n",
       " 0  0000000  0.125000      0.000         1\n",
       " 1  1000000  0.125000      0.000         2\n",
       " 2  1100000  0.125000      0.000         3\n",
       " 3  1110000  0.125000      0.000         4\n",
       " 4  1111000  0.125000      0.000         5\n",
       " 5  1111100  0.125000      0.000         6\n",
       " 6  1111110  0.125000      0.053         7\n",
       " 7  1111111  0.125000      0.947         8]"
      ]
     },
     "execution_count": 73,
     "metadata": {},
     "output_type": "execute_result"
    }
   ],
   "source": [
    "b2.summarize_results(\"01\", individual_results=True)"
   ]
  }
 ],
 "metadata": {
  "kernelspec": {
   "display_name": "Python 3 (ipykernel)",
   "language": "python",
   "name": "python3"
  },
  "language_info": {
   "codemirror_mode": {
    "name": "ipython",
    "version": 3
   },
   "file_extension": ".py",
   "mimetype": "text/x-python",
   "name": "python",
   "nbconvert_exporter": "python",
   "pygments_lexer": "ipython3",
   "version": "3.11.3"
  }
 },
 "nbformat": 4,
 "nbformat_minor": 5
}
