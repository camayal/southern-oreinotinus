{
 "cells": [
  {
   "cell_type": "markdown",
   "metadata": {},
   "source": [
    "# NANUQ networks reconstructions"
   ]
  },
  {
   "cell_type": "code",
   "execution_count": 1,
   "metadata": {},
   "outputs": [
    {
     "data": {
      "text/plain": [
       "'0.9.84'"
      ]
     },
     "execution_count": 1,
     "metadata": {},
     "output_type": "execute_result"
    }
   ],
   "source": [
    "#Imports\n",
    "import toytree\n",
    "import toyplot.pdf\n",
    "import pandas as pd\n",
    "import ipyrad.analysis as ipa\n",
    "\n",
    "ipa.__version__"
   ]
  },
  {
   "cell_type": "markdown",
   "metadata": {},
   "source": [
    "## Getting trees with treeslider"
   ]
  },
  {
   "cell_type": "code",
   "execution_count": 2,
   "metadata": {},
   "outputs": [],
   "source": [
    "#Sequences file\n",
    "SEQS = \"/home/cm2828/project/viburnumThings/data/Aug2022_lookingforBolivianSamples/bolivia_history_outfiles/bolivia_history.seqs.hdf5\""
   ]
  },
  {
   "cell_type": "code",
   "execution_count": 4,
   "metadata": {
    "tags": []
   },
   "outputs": [
    {
     "data": {
      "text/html": [
       "<div>\n",
       "<style scoped>\n",
       "    .dataframe tbody tr th:only-of-type {\n",
       "        vertical-align: middle;\n",
       "    }\n",
       "\n",
       "    .dataframe tbody tr th {\n",
       "        vertical-align: top;\n",
       "    }\n",
       "\n",
       "    .dataframe thead th {\n",
       "        text-align: right;\n",
       "    }\n",
       "</style>\n",
       "<table border=\"1\" class=\"dataframe\">\n",
       "  <thead>\n",
       "    <tr style=\"text-align: right;\">\n",
       "      <th></th>\n",
       "      <th>scaffold_name</th>\n",
       "      <th>scaffold_length</th>\n",
       "    </tr>\n",
       "  </thead>\n",
       "  <tbody>\n",
       "    <tr>\n",
       "      <th>3588</th>\n",
       "      <td>Scaffold_3589;HRSCAF=4012</td>\n",
       "      <td>47665733</td>\n",
       "    </tr>\n",
       "    <tr>\n",
       "      <th>28086</th>\n",
       "      <td>Scaffold_28087;HRSCAF=31587</td>\n",
       "      <td>44977913</td>\n",
       "    </tr>\n",
       "    <tr>\n",
       "      <th>17364</th>\n",
       "      <td>Scaffold_17365;HRSCAF=19499</td>\n",
       "      <td>36021024</td>\n",
       "    </tr>\n",
       "    <tr>\n",
       "      <th>62490</th>\n",
       "      <td>Scaffold_62491;HRSCAF=74262</td>\n",
       "      <td>28015097</td>\n",
       "    </tr>\n",
       "    <tr>\n",
       "      <th>61137</th>\n",
       "      <td>Scaffold_61138;HRSCAF=69458</td>\n",
       "      <td>27022671</td>\n",
       "    </tr>\n",
       "    <tr>\n",
       "      <th>...</th>\n",
       "      <td>...</td>\n",
       "      <td>...</td>\n",
       "    </tr>\n",
       "    <tr>\n",
       "      <th>56530</th>\n",
       "      <td>Scaffold_56531;HRSCAF=63672</td>\n",
       "      <td>1000</td>\n",
       "    </tr>\n",
       "    <tr>\n",
       "      <th>47705</th>\n",
       "      <td>Scaffold_47706;HRSCAF=53707</td>\n",
       "      <td>1000</td>\n",
       "    </tr>\n",
       "    <tr>\n",
       "      <th>2963</th>\n",
       "      <td>Scaffold_2964;HRSCAF=3308</td>\n",
       "      <td>1000</td>\n",
       "    </tr>\n",
       "    <tr>\n",
       "      <th>28804</th>\n",
       "      <td>Scaffold_28805;HRSCAF=32399</td>\n",
       "      <td>1000</td>\n",
       "    </tr>\n",
       "    <tr>\n",
       "      <th>21783</th>\n",
       "      <td>Scaffold_21784;HRSCAF=24460</td>\n",
       "      <td>1000</td>\n",
       "    </tr>\n",
       "  </tbody>\n",
       "</table>\n",
       "<p>63580 rows × 2 columns</p>\n",
       "</div>"
      ],
      "text/plain": [
       "                     scaffold_name  scaffold_length\n",
       "3588     Scaffold_3589;HRSCAF=4012         47665733\n",
       "28086  Scaffold_28087;HRSCAF=31587         44977913\n",
       "17364  Scaffold_17365;HRSCAF=19499         36021024\n",
       "62490  Scaffold_62491;HRSCAF=74262         28015097\n",
       "61137  Scaffold_61138;HRSCAF=69458         27022671\n",
       "...                            ...              ...\n",
       "56530  Scaffold_56531;HRSCAF=63672             1000\n",
       "47705  Scaffold_47706;HRSCAF=53707             1000\n",
       "2963     Scaffold_2964;HRSCAF=3308             1000\n",
       "28804  Scaffold_28805;HRSCAF=32399             1000\n",
       "21783  Scaffold_21784;HRSCAF=24460             1000\n",
       "\n",
       "[63580 rows x 2 columns]"
      ]
     },
     "metadata": {},
     "output_type": "display_data"
    },
    {
     "name": "stdout",
     "output_type": "stream",
     "text": [
      "[3588, 28086, 17364, 62490, 61137, 45956, 8703, 9533, 48436, 2632]\n"
     ]
    }
   ],
   "source": [
    "# Get the biggest 100 scaffolds to use only\n",
    "scaff = ipa.treeslider(SEQS)\n",
    "scaff_table = scaff.scaffold_table.sort_values(by=\"scaffold_length\", ascending=False)\n",
    "display (scaff_table)\n",
    "\n",
    "#use 100 biggest scaffolds\n",
    "scaff_toUse = scaff_table.index[:1000].tolist()\n",
    "print (scaff_toUse)"
   ]
  },
  {
   "cell_type": "code",
   "execution_count": 4,
   "metadata": {},
   "outputs": [],
   "source": [
    "tt = ipa.window_extracter(SEQS,name=\"test_visual_bigScaffold\", scaffold_idxs=3588)"
   ]
  },
  {
   "cell_type": "code",
   "execution_count": 5,
   "metadata": {},
   "outputs": [
    {
     "name": "stdout",
     "output_type": "stream",
     "text": [
      "Wrote data to /gpfs/ysm/project/edwards/cm2828/viburnumThings/bolivia/notebooks/nanuq_astral/analysis-window_extracter/test_visual_bigScaffold.nex\n"
     ]
    }
   ],
   "source": [
    "tt.run(nexus=True)"
   ]
  },
  {
   "cell_type": "code",
   "execution_count": 14,
   "metadata": {},
   "outputs": [],
   "source": [
    "from Bio import AlignIO\n",
    "from Bio.Align import AlignInfo\n",
    "from PIL import Image\n",
    "import os\n",
    "\n",
    "def get_pic_align(alignment_file, \n",
    "                  alignment_format=\"fasta\", \n",
    "                  colors = {\"A\": (90, 228, 93),\n",
    "                            \"C\": (90, 90, 230),\n",
    "                            \"G\": (226, 230, 90),\n",
    "                            \"T\": (230, 90, 90)\n",
    "                           },\n",
    "                  print_name = True,\n",
    "                  resize = (-1, -1),\n",
    "                  window = (0, -1)\n",
    "                 ):\n",
    "\n",
    "    #open file and get sequence\n",
    "    alignment = AlignIO.read(alignment_file, alignment_format)\n",
    "    summary_align = AlignInfo.SummaryInfo(alignment)\n",
    "\n",
    "    fasta_name = os.path.basename(alignment_file).split(\".\")[0]\n",
    "    \n",
    "    #define default window\n",
    "    if window[0] < 0:\n",
    "        window_start = 0\n",
    "    else:\n",
    "        window_start = window[0]\n",
    "    \n",
    "    if window[1] < 0:\n",
    "        window_end = alignment.get_alignment_length()\n",
    "    else:\n",
    "        window_end = window[1]\n",
    "\n",
    "    width = window_end\n",
    "    height = len(alignment)\n",
    "\n",
    "    picalign = Image.new( 'RGB', (width, height), \"white\")\n",
    "    pixels = picalign.load()\n",
    "\n",
    "    codes = colors\n",
    "   \n",
    "\n",
    "    for col in range(window_start, window_end):\n",
    "        column = summary_align.get_column(col)\n",
    "\n",
    "        for pos, base in enumerate(summary_align.get_column(col)):\n",
    "            base = base.upper()\n",
    "\n",
    "            if base not in codes.keys(): \n",
    "                color = (255, 255, 255)\n",
    "            else:\n",
    "                color = codes[base]\n",
    "\n",
    "\n",
    "            pixels[col, pos] = color\n",
    "            \n",
    "    if print_name: print(f\"{alignment_file} - seqs: {height}, length: {width}\")\n",
    "    \n",
    "    if resize[0] > 0 and resize[1] > 0:\n",
    "        picalign = picalign.resize((resize[0],resize[1]), resample=0)\n",
    "    \n",
    "    return picalign"
   ]
  },
  {
   "cell_type": "code",
   "execution_count": 23,
   "metadata": {},
   "outputs": [
    {
     "name": "stdout",
     "output_type": "stream",
     "text": [
      "/gpfs/ysm/project/edwards/cm2828/viburnumThings/bolivia/notebooks/nanuq_astral/analysis-window_extracter/test_visual_bigScaffold.nex - seqs: 80, length: 2000\n"
     ]
    },
    {
     "data": {
      "image/png": "[encoded data removed]",
      "text/plain": [
       "<PIL.Image.Image image mode=RGB size=2000x80>"
      ]
     },
     "execution_count": 23,
     "metadata": {},
     "output_type": "execute_result"
    }
   ],
   "source": [
    "get_pic_align(\"/gpfs/ysm/project/edwards/cm2828/viburnumThings/bolivia/notebooks/nanuq_astral/analysis-window_extracter/test_visual_bigScaffold.nex\", \n",
    "              alignment_format=\"nexus\",\n",
    "              window=(800, 2000), \n",
    "              # resize=(10000,600)\n",
    "             )"
   ]
  },
  {
   "cell_type": "code",
   "execution_count": 5,
   "metadata": {},
   "outputs": [],
   "source": [
    "# Load database to build imap\n",
    "import dbgdrive\n",
    "fulldata = dbgdrive.get_database(sheet_name='sample-data', id_spreadsheet='**', api_key='**')"
   ]
  },
  {
   "cell_type": "code",
   "execution_count": 6,
   "metadata": {
    "scrolled": true
   },
   "outputs": [],
   "source": [
    "# #create imap\n",
    "\n",
    "# ## import collections to create an empty dict\n",
    "# from collections import defaultdict\n",
    "\n",
    "# #create empty dict\n",
    "# imap = defaultdict(list)\n",
    "# #go row by row\n",
    "# for index, row in fulldata.iterrows():\n",
    "#     #only check fulldataset specimens\n",
    "#     if row[\"full_dataset_withAyava\"]:\n",
    "#         #append each NamInAssembly to the key Lastest_SP_name\n",
    "#         imap[row[\"Lastest_SP_name\"]].append(row[\"NameInAssembly\"])\n",
    "\n",
    "# #show IMAP \n",
    "# imap"
   ]
  },
  {
   "cell_type": "code",
   "execution_count": 7,
   "metadata": {},
   "outputs": [],
   "source": [
    "# create imap with only incaseedum clade samples\n",
    "incaseedum = ['seemenii_f_minus_PWS_3910',\n",
    " 'seemenii_f_bolivianum_PWS_3909',\n",
    " 'seemenii_f_minus_PWS_3913',\n",
    " 'seemenii_f_minus_PWS_3911',\n",
    " 'seemenii_f_minus_PWS_3912',\n",
    " 'seemenii_PWS_3898',\n",
    " 'seemenii_PWS_3900',\n",
    " 'seemenii_PWS_3899',\n",
    " 'seemenii_PWS_3894',\n",
    " 'seemenii_PWS_3895',\n",
    " 'seemenii_PWS_3896',\n",
    " 'seemenii_PWS_3897',\n",
    " 'seemenii_f_minus_PWS_3897',\n",
    " 'ayavacense_PWS_3902',\n",
    " 'ayavacense_PWS_3903',\n",
    " 'ayavacense_PWS_3901',\n",
    " 'ayavacense_PWS_3907',\n",
    " 'ayavacense_PWS_3904',\n",
    " 'ayavacense_PWS_3905',\n",
    " 'ayavacense_PWS_3908',\n",
    " 'ayavacense_PWS_3906',\n",
    " 'ayavacense_PWS_3886',\n",
    " 'ayavacense_PWS_3887',\n",
    " 'ayavacense_PWS_3892',\n",
    " 'ayavacense_PWS_3888',\n",
    " 'ayavacense_PWS_3889',\n",
    " 'ayavacense_PWS_3890',\n",
    " 'ayavacense_PWS_3893',\n",
    " 'ayavacense_PWS_3891',\n",
    " 'ayavacense_PWS_3884',\n",
    " 'ayavacense_PWS_3883',\n",
    " 'ayavacense_PWS_3885',\n",
    " 'seemenii_Maldonado_3040',\n",
    " 'seemenii_Fuentes_4724',\n",
    " 'seemenii_Fuentes_8750',\n",
    " 'hallii_PWS_4025',\n",
    " 'hallii_PWS_4023',\n",
    " 'hallii_PWS_4021',\n",
    " 'hallii_PWS_4022',\n",
    " 'hallii_PWS_4020',\n",
    " 'hallii_PWS_4024',\n",
    " 'incarum_PWS_4030',\n",
    " 'incarum_PWS_4026',\n",
    " 'incarum_PWS_4029',\n",
    " 'incarum_PWS_4027',\n",
    " 'incarum_PWS_4028']"
   ]
  },
  {
   "cell_type": "code",
   "execution_count": 8,
   "metadata": {},
   "outputs": [],
   "source": [
    "# Edwards_2014_04, PWS_4011, PWS_4002, and PWS_1769.\n",
    "outgroup  = [\"triphyllum_Edwards_2014_04\",\n",
    "             \"triphyllum_PWS_4011\",\n",
    "             \"ayavacense_PWS_4002\",\n",
    "             \"triphyllum_PWS_1769\"\n",
    "]"
   ]
  },
  {
   "cell_type": "code",
   "execution_count": 9,
   "metadata": {},
   "outputs": [],
   "source": [
    "IMAP = {\n",
    "    \"outgroup\": outgroup,\n",
    "    \"ingroup\": incaseedum,\n",
    "}\n",
    "\n",
    "# IMAP"
   ]
  },
  {
   "cell_type": "code",
   "execution_count": 16,
   "metadata": {},
   "outputs": [
    {
     "data": {
      "text/plain": [
       "{'outgroup': ['triphyllum_Edwards_2014_04',\n",
       "  'triphyllum_PWS_4011',\n",
       "  'ayavacense_PWS_4002',\n",
       "  'triphyllum_PWS_1769'],\n",
       " 'ingroup': ['seemenii_f_minus_PWS_3910',\n",
       "  'seemenii_f_bolivianum_PWS_3909',\n",
       "  'seemenii_f_minus_PWS_3913',\n",
       "  'seemenii_f_minus_PWS_3911',\n",
       "  'seemenii_f_minus_PWS_3912',\n",
       "  'seemenii_PWS_3898',\n",
       "  'seemenii_PWS_3900',\n",
       "  'seemenii_PWS_3899',\n",
       "  'seemenii_PWS_3894',\n",
       "  'seemenii_PWS_3895',\n",
       "  'seemenii_PWS_3896',\n",
       "  'seemenii_PWS_3897',\n",
       "  'seemenii_f_minus_PWS_3897',\n",
       "  'ayavacense_PWS_3902',\n",
       "  'ayavacense_PWS_3903',\n",
       "  'ayavacense_PWS_3901',\n",
       "  'ayavacense_PWS_3907',\n",
       "  'ayavacense_PWS_3904',\n",
       "  'ayavacense_PWS_3905',\n",
       "  'ayavacense_PWS_3908',\n",
       "  'ayavacense_PWS_3906',\n",
       "  'ayavacense_PWS_3886',\n",
       "  'ayavacense_PWS_3887',\n",
       "  'ayavacense_PWS_3892',\n",
       "  'ayavacense_PWS_3888',\n",
       "  'ayavacense_PWS_3889',\n",
       "  'ayavacense_PWS_3890',\n",
       "  'ayavacense_PWS_3893',\n",
       "  'ayavacense_PWS_3891',\n",
       "  'ayavacense_PWS_3884',\n",
       "  'ayavacense_PWS_3883',\n",
       "  'ayavacense_PWS_3885',\n",
       "  'seemenii_Maldonado_3040',\n",
       "  'seemenii_Fuentes_4724',\n",
       "  'seemenii_Fuentes_8750',\n",
       "  'hallii_PWS_4025',\n",
       "  'hallii_PWS_4023',\n",
       "  'hallii_PWS_4021',\n",
       "  'hallii_PWS_4022',\n",
       "  'hallii_PWS_4020',\n",
       "  'hallii_PWS_4024',\n",
       "  'incarum_PWS_4030',\n",
       "  'incarum_PWS_4026',\n",
       "  'incarum_PWS_4029',\n",
       "  'incarum_PWS_4027',\n",
       "  'incarum_PWS_4028']}"
      ]
     },
     "execution_count": 16,
     "metadata": {},
     "output_type": "execute_result"
    }
   ],
   "source": [
    "IMAP"
   ]
  },
  {
   "cell_type": "code",
   "execution_count": 10,
   "metadata": {},
   "outputs": [],
   "source": [
    "# set treeslider parameters \n",
    "ts = ipa.treeslider(\n",
    "    name=\"1_treesliderForNanuq\",\n",
    "    data=SEQS,\n",
    "    workdir=\"analysis-treeslider\",\n",
    "    scaffold_idxs=scaff_toUse,\n",
    "    window_size=2000000,\n",
    "    slide_size=2000000,\n",
    "    inference_method=\"raxml\",\n",
    "    inference_args={\"N\": 100, \"T\": 1},\n",
    "    minsnps=10,\n",
    "    mincov=9,\n",
    "    imap=IMAP,\n",
    "#     minmap= {i: 0 for i in imap},\n",
    "    # consensus_reduce=True\n",
    ")"
   ]
  },
  {
   "cell_type": "code",
   "execution_count": 11,
   "metadata": {},
   "outputs": [],
   "source": [
    "# set parallelization parameters\n",
    "ts.ipcluster['cores'] = 30\n",
    "ts.ipcluster['threads'] = 2"
   ]
  },
  {
   "cell_type": "code",
   "execution_count": 12,
   "metadata": {},
   "outputs": [
    {
     "name": "stdout",
     "output_type": "stream",
     "text": [
      "/gpfs/ysm/project/edwards/cm2828/conda_envs/ipyrad_from_conda/bin/raxmlHPC-PTHREADS-AVX2 -f a -T 2 -m GTRGAMMA -n ... -w ... -s ... -p 54321 -N 100 -x 12345\n"
     ]
    }
   ],
   "source": [
    "ts.show_inference_command()"
   ]
  },
  {
   "cell_type": "code",
   "execution_count": 13,
   "metadata": {},
   "outputs": [],
   "source": [
    "# ipcluster start --n=50 --cluster-id='1'\n",
    "# import ipyparallel as ipp\n",
    "# ipyclient = ipp.Client(cluster_id=\"1\")"
   ]
  },
  {
   "cell_type": "code",
   "execution_count": 14,
   "metadata": {},
   "outputs": [],
   "source": [
    "# len(ipyclient.ids)"
   ]
  },
  {
   "cell_type": "code",
   "execution_count": 15,
   "metadata": {},
   "outputs": [
    {
     "name": "stdout",
     "output_type": "stream",
     "text": [
      "Parallel connection | c17n09.farnam.hpc.yale.internal: 30 cores\n",
      "building database: nwindows=143; minsnps=10\n",
      "[                    ]   0% 0:00:20 | inferring trees \n",
      "Keyboard Interrupt by user\n",
      "\n",
      "Error: ipcluster shutdown and must be restarted\n"
     ]
    },
    {
     "name": "stderr",
     "output_type": "stream",
     "text": [
      "\n",
      "KeyboardInterrupt\n",
      "\n"
     ]
    }
   ],
   "source": [
    "# Run treeslider\n",
    "# ts.run(ipyclient=ipyclient, force=True, show_cluster=True)\n",
    "\n",
    "ts.run(auto=True, force=True, show_cluster=True)"
   ]
  },
  {
   "cell_type": "code",
   "execution_count": 30,
   "metadata": {},
   "outputs": [
    {
     "data": {
      "text/html": [
       "<div>\n",
       "<style scoped>\n",
       "    .dataframe tbody tr th:only-of-type {\n",
       "        vertical-align: middle;\n",
       "    }\n",
       "\n",
       "    .dataframe tbody tr th {\n",
       "        vertical-align: top;\n",
       "    }\n",
       "\n",
       "    .dataframe thead th {\n",
       "        text-align: right;\n",
       "    }\n",
       "</style>\n",
       "<table border=\"1\" class=\"dataframe\">\n",
       "  <thead>\n",
       "    <tr style=\"text-align: right;\">\n",
       "      <th></th>\n",
       "      <th>scaffold</th>\n",
       "      <th>start</th>\n",
       "      <th>end</th>\n",
       "      <th>sites</th>\n",
       "      <th>snps</th>\n",
       "      <th>samples</th>\n",
       "      <th>missing</th>\n",
       "      <th>tree</th>\n",
       "    </tr>\n",
       "  </thead>\n",
       "  <tbody>\n",
       "    <tr>\n",
       "      <th>0</th>\n",
       "      <td>126</td>\n",
       "      <td>0</td>\n",
       "      <td>2000000</td>\n",
       "      <td>9889</td>\n",
       "      <td>116</td>\n",
       "      <td>50</td>\n",
       "      <td>0.53</td>\n",
       "      <td>(ayavacense_PWS_3907:0.00169024,(triphyllum_PWS_1769:0.00101933,(ayavacense_PWS_3890:0.000247475,(ayavacense_PWS_3906:0.00149735,(ayavacense_PWS_3887:0.00103988,(seemenii_PWS_3900:0.00134779,((seemenii_f_minus_PWS_3897:0.000730542,ayavacense_PWS_...</td>\n",
       "    </tr>\n",
       "    <tr>\n",
       "      <th>1</th>\n",
       "      <td>126</td>\n",
       "      <td>2000000</td>\n",
       "      <td>4000000</td>\n",
       "      <td>9603</td>\n",
       "      <td>125</td>\n",
       "      <td>50</td>\n",
       "      <td>0.53</td>\n",
       "      <td>(ayavacense_PWS_3885:0.00062865,((ayavacense_PWS_3888:1e-06,ayavacense_PWS_3887:0.000654385)16:0.000834877,(ayavacense_PWS_3904:1e-06,(ayavacense_PWS_3893:0.00266444,ayavacense_PWS_3889:0.000672735)1:1e-06)0:0.000512279)0:0.000634774,(ayavacense_...</td>\n",
       "    </tr>\n",
       "    <tr>\n",
       "      <th>2</th>\n",
       "      <td>126</td>\n",
       "      <td>4000000</td>\n",
       "      <td>6000000</td>\n",
       "      <td>7190</td>\n",
       "      <td>86</td>\n",
       "      <td>50</td>\n",
       "      <td>0.53</td>\n",
       "      <td>(hallii_PWS_4021:1e-06,hallii_PWS_4025:1e-06,((ayavacense_PWS_3883:0.000435596,seemenii_f_minus_PWS_3912:0.000956081)12:0.000426507,(((ayavacense_PWS_3905:0.00214204,(ayavacense_PWS_3885:0.000483725,seemenii_Maldonado_3040:0.000887765)42:0.000685...</td>\n",
       "    </tr>\n",
       "    <tr>\n",
       "      <th>3</th>\n",
       "      <td>126</td>\n",
       "      <td>6000000</td>\n",
       "      <td>8000000</td>\n",
       "      <td>9603</td>\n",
       "      <td>83</td>\n",
       "      <td>50</td>\n",
       "      <td>0.56</td>\n",
       "      <td>(ayavacense_PWS_3883:1e-06,ayavacense_PWS_3884:1e-06,((triphyllum_PWS_4011:0.00083658,(seemenii_Fuentes_8750:0.000942062,(ayavacense_PWS_3901:0.00154883,(ayavacense_PWS_3890:1e-06,(ayavacense_PWS_3887:0.00101865,ayavacense_PWS_3892:0.00182843)23:...</td>\n",
       "    </tr>\n",
       "    <tr>\n",
       "      <th>4</th>\n",
       "      <td>647</td>\n",
       "      <td>0</td>\n",
       "      <td>2000000</td>\n",
       "      <td>5873</td>\n",
       "      <td>80</td>\n",
       "      <td>50</td>\n",
       "      <td>0.58</td>\n",
       "      <td>(triphyllum_PWS_4011:0.000766729,(ayavacense_PWS_3905:0.000419936,(ayavacense_PWS_3886:1e-06,ayavacense_PWS_3890:1e-06)20:0.00220889)12:0.00038119,(ayavacense_PWS_3883:1e-06,(ayavacense_PWS_3888:0.00173612,((ayavacense_PWS_3901:0.000348972,(ayava...</td>\n",
       "    </tr>\n",
       "  </tbody>\n",
       "</table>\n",
       "</div>"
      ],
      "text/plain": [
       "   scaffold    start      end  sites  snps  samples  missing  \\\n",
       "0       126        0  2000000   9889   116       50     0.53   \n",
       "1       126  2000000  4000000   9603   125       50     0.53   \n",
       "2       126  4000000  6000000   7190    86       50     0.53   \n",
       "3       126  6000000  8000000   9603    83       50     0.56   \n",
       "4       647        0  2000000   5873    80       50     0.58   \n",
       "\n",
       "                                                                                                                                                                                                                                                        tree  \n",
       "0  (ayavacense_PWS_3907:0.00169024,(triphyllum_PWS_1769:0.00101933,(ayavacense_PWS_3890:0.000247475,(ayavacense_PWS_3906:0.00149735,(ayavacense_PWS_3887:0.00103988,(seemenii_PWS_3900:0.00134779,((seemenii_f_minus_PWS_3897:0.000730542,ayavacense_PWS_...  \n",
       "1  (ayavacense_PWS_3885:0.00062865,((ayavacense_PWS_3888:1e-06,ayavacense_PWS_3887:0.000654385)16:0.000834877,(ayavacense_PWS_3904:1e-06,(ayavacense_PWS_3893:0.00266444,ayavacense_PWS_3889:0.000672735)1:1e-06)0:0.000512279)0:0.000634774,(ayavacense_...  \n",
       "2  (hallii_PWS_4021:1e-06,hallii_PWS_4025:1e-06,((ayavacense_PWS_3883:0.000435596,seemenii_f_minus_PWS_3912:0.000956081)12:0.000426507,(((ayavacense_PWS_3905:0.00214204,(ayavacense_PWS_3885:0.000483725,seemenii_Maldonado_3040:0.000887765)42:0.000685...  \n",
       "3  (ayavacense_PWS_3883:1e-06,ayavacense_PWS_3884:1e-06,((triphyllum_PWS_4011:0.00083658,(seemenii_Fuentes_8750:0.000942062,(ayavacense_PWS_3901:0.00154883,(ayavacense_PWS_3890:1e-06,(ayavacense_PWS_3887:0.00101865,ayavacense_PWS_3892:0.00182843)23:...  \n",
       "4  (triphyllum_PWS_4011:0.000766729,(ayavacense_PWS_3905:0.000419936,(ayavacense_PWS_3886:1e-06,ayavacense_PWS_3890:1e-06)20:0.00220889)12:0.00038119,(ayavacense_PWS_3883:1e-06,(ayavacense_PWS_3888:0.00173612,((ayavacense_PWS_3901:0.000348972,(ayava...  "
      ]
     },
     "execution_count": 30,
     "metadata": {},
     "output_type": "execute_result"
    }
   ],
   "source": [
    "ts.tree_table.head()"
   ]
  },
  {
   "cell_type": "code",
   "execution_count": 33,
   "metadata": {},
   "outputs": [
    {
     "data": {
      "text/plain": [
       "24"
      ]
     },
     "execution_count": 33,
     "metadata": {},
     "output_type": "execute_result"
    }
   ],
   "source": [
    "#Check slides that have more than 300 snps\n",
    "len(ts.tree_table[ts.tree_table.snps > 300].tree)"
   ]
  },
  {
   "cell_type": "code",
   "execution_count": 34,
   "metadata": {},
   "outputs": [
    {
     "data": {
      "text/plain": [
       "163"
      ]
     },
     "execution_count": 34,
     "metadata": {},
     "output_type": "execute_result"
    }
   ],
   "source": [
    "#Check slides that have more than 300 snps\n",
    "len(ts.tree_table[ts.tree_table.snps > 200].tree)"
   ]
  },
  {
   "cell_type": "code",
   "execution_count": 35,
   "metadata": {},
   "outputs": [
    {
     "data": {
      "text/plain": [
       "465"
      ]
     },
     "execution_count": 35,
     "metadata": {},
     "output_type": "execute_result"
    }
   ],
   "source": [
    "#Check slides that have more than 300 snps\n",
    "len(ts.tree_table[ts.tree_table.snps > 100].tree)"
   ]
  },
  {
   "cell_type": "code",
   "execution_count": 36,
   "metadata": {},
   "outputs": [],
   "source": [
    "#Save tree into a full newick useful for Astral and for NANUQ\n",
    "for minsnps in [100, 200, 300]:\n",
    "    noNANtsTable = ts.tree_table.dropna()\n",
    "    outfile = open(f\"analysis-treeslider/raxmlTrees_{ts.name}_{minsnps}snps.nwk\", \"w\")\n",
    "    outfile.write(\"\\n\".join(noNANtsTable[noNANtsTable.snps > minsnps].tree.tolist()))\n",
    "    outfile.close()"
   ]
  },
  {
   "cell_type": "code",
   "execution_count": null,
   "metadata": {},
   "outputs": [],
   "source": [
    "### The following part was done locally"
   ]
  },
  {
   "cell_type": "code",
   "execution_count": null,
   "metadata": {},
   "outputs": [],
   "source": [
    "%load_ext rpy2.ipython\n",
    "#Installed from pip install rpy2"
   ]
  },
  {
   "cell_type": "code",
   "execution_count": null,
   "metadata": {},
   "outputs": [],
   "source": [
    "%%R\n",
    "#install library in console where NANUQ algoritm is\n",
    "# install.packages(\"MSCquartets\")\n",
    "\n",
    "#load library\n",
    "library(\"MSCquartets\")\n",
    "\n",
    "#Run nanuq\n",
    "nanuqDist = NANUQ(\"/home/carlos/GDRIVE/viburnumThings/Viburnum-Oreinotinus/notebooks/Mar2021/analysis-treeslider/raxmlTrees_window2mb_msnip10_mcov9_IMAPED_100biggestScaff_300snps.nwk\", \n",
    "      outfile = \"/home/carlos/GDRIVE/viburnumThings/Viburnum-Oreinotinus/notebooks/Mar2021/analysis-treeslider/NANUQdist_a0.05b0.95\", \n",
    "      alpha = 0.05, \n",
    "      beta = 0.95,\n",
    "      taxanames = NULL, #Names in the first tree are used  otherwise a vector with all names is required\n",
    "      plot = TRUE) #Plot hypothesis triangular plots (simplex plot)"
   ]
  },
  {
   "cell_type": "code",
   "execution_count": null,
   "metadata": {},
   "outputs": [],
   "source": [
    "#Outfile is processed locally in splittree GUI version"
   ]
  }
 ],
 "metadata": {
  "kernelspec": {
   "display_name": "Python 3 (ipykernel)",
   "language": "python",
   "name": "python3"
  },
  "language_info": {
   "codemirror_mode": {
    "name": "ipython",
    "version": 3
   },
   "file_extension": ".py",
   "mimetype": "text/x-python",
   "name": "python",
   "nbconvert_exporter": "python",
   "pygments_lexer": "ipython3",
   "version": "3.11.3"
  }
 },
 "nbformat": 4,
 "nbformat_minor": 4
}
